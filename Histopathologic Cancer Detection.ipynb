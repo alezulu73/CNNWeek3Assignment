{
 "cells": [
  {
   "cell_type": "markdown",
   "id": "adbc8e52",
   "metadata": {},
   "source": [
    "# Peer-graded Assignment: Week 3: CNN Cancer Detection Kaggle Mini-Project\n",
    "\n",
    "#### Prepared by: Alejandro Zuniga Luna "
   ]
  },
  {
   "cell_type": "markdown",
   "id": "d1ae6142",
   "metadata": {},
   "source": [
    "## 1. Brief description of the problem and data\n",
    "\n",
    "Briefly describe the challenge problem and NLP. Describe the size, dimension, structure, etc., of the data. "
   ]
  },
  {
   "cell_type": "code",
   "execution_count": null,
   "id": "3aa4c1e1",
   "metadata": {},
   "outputs": [],
   "source": []
  },
  {
   "cell_type": "markdown",
   "id": "c0997b60",
   "metadata": {},
   "source": [
    "## 2. Exploratory Data Analysis (EDA)\n",
    "\n",
    "#### Inspect, Visualize and Clean the Data\n",
    "\n",
    "Show a few visualizations like histograms. Describe any data cleaning procedures. Based on your EDA, what is your plan of analysis? \n"
   ]
  },
  {
   "cell_type": "markdown",
   "id": "1f7ac8ba",
   "metadata": {},
   "source": []
  },
  {
   "cell_type": "markdown",
   "id": "5f1ddf9b",
   "metadata": {},
   "source": [
    "## 3. DModel Architecture\n",
    "\n",
    "Describe your model architecture and reasoning for why you believe that specific architecture would be suitable for this problem. Compare multiple architectures and tune hyperparameters. "
   ]
  },
  {
   "cell_type": "code",
   "execution_count": null,
   "id": "1d0902ab",
   "metadata": {},
   "outputs": [],
   "source": []
  },
  {
   "cell_type": "markdown",
   "id": "c2085de7",
   "metadata": {},
   "source": [
    "## 4. Results and Analysis \n",
    "\n",
    "Run hyperparameter tuning, try different architectures for comparison, apply techniques to improve training or performance, and discuss what helped.\n",
    "\n",
    "Includes results with tables and figures. There is an analysis of why or why not something worked well, troubleshooting, and a hyperparameter optimization procedure summary."
   ]
  },
  {
   "cell_type": "code",
   "execution_count": null,
   "id": "bfff2024",
   "metadata": {},
   "outputs": [],
   "source": []
  },
  {
   "cell_type": "markdown",
   "id": "c14adc57",
   "metadata": {},
   "source": [
    "## 5. Conclusion\n",
    "\n",
    "Discuss and interpret results as well as learnings and takeaways. What did and did not help improve the performance of your models? What improvements could you try in the future?"
   ]
  },
  {
   "cell_type": "code",
   "execution_count": null,
   "id": "a3124204",
   "metadata": {},
   "outputs": [],
   "source": []
  },
  {
   "cell_type": "markdown",
   "id": "75883ddf",
   "metadata": {},
   "source": [
    "## Public project GitHub repository"
   ]
  },
  {
   "cell_type": "code",
   "execution_count": null,
   "id": "c42899bc",
   "metadata": {},
   "outputs": [],
   "source": []
  }
 ],
 "metadata": {
  "kernelspec": {
   "display_name": "Python 3 (ipykernel)",
   "language": "python",
   "name": "python3"
  },
  "language_info": {
   "codemirror_mode": {
    "name": "ipython",
    "version": 3
   },
   "file_extension": ".py",
   "mimetype": "text/x-python",
   "name": "python",
   "nbconvert_exporter": "python",
   "pygments_lexer": "ipython3",
   "version": "3.10.10"
  }
 },
 "nbformat": 4,
 "nbformat_minor": 5
}
